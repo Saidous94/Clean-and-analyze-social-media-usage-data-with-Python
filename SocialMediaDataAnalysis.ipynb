{
 "cells": [
  {
   "cell_type": "markdown",
   "metadata": {},
   "source": [
    "# Clean & Analyze Social Media"
   ]
  },
  {
   "cell_type": "markdown",
   "metadata": {},
   "source": [
    "## Introduction\n",
    "\n",
    "Social media has become a ubiquitous part of modern life, with platforms such as Instagram, Twitter, and Facebook serving as essential communication channels. Social media data sets are vast and complex, making analysis a challenging task for businesses and researchers alike. In this project, we explore a simulated social media, for example Tweets, data set to understand trends in likes across different categories.\n",
    "\n",
    "## Prerequisites\n",
    "\n",
    "To follow along with this project, you should have a basic understanding of Python programming and data analysis concepts. In addition, you may want to use the following packages in your Python environment:\n",
    "\n",
    "- pandas\n",
    "- Matplotlib\n",
    "- ...\n",
    "\n",
    "These packages should already be installed in Coursera's Jupyter Notebook environment, however if you'd like to install additional packages that are not included in this environment or are working off platform you can install additional packages using `!pip install packagename` within a notebook cell such as:\n",
    "\n",
    "- `!pip install pandas`\n",
    "- `!pip install matplotlib`\n",
    "\n",
    "## Project Scope\n",
    "\n",
    "The objective of this project is to analyze tweets (or other social media data) and gain insights into user engagement. We will explore the data set using visualization techniques to understand the distribution of likes across different categories. Finally, we will analyze the data to draw conclusions about the most popular categories and the overall engagement on the platform.\n",
    "\n",
    "## Step 1: Importing Required Libraries\n",
    "\n",
    "As the name suggests, the first step is to import all the necessary libraries that will be used in the project. In this case, we need pandas, numpy, matplotlib, seaborn, and random libraries.\n",
    "\n",
    "Pandas is a library used for data manipulation and analysis. Numpy is a library used for numerical computations. Matplotlib is a library used for data visualization. Seaborn is a library used for statistical data visualization. Random is a library used to generate random numbers."
   ]
  },
  {
   "cell_type": "code",
   "execution_count": 1,
   "metadata": {},
   "outputs": [
    {
     "name": "stdout",
     "output_type": "stream",
     "text": [
      "Requirement already satisfied: pandas in /opt/conda/lib/python3.7/site-packages (1.0.3)\n",
      "Requirement already satisfied: numpy>=1.13.3 in /opt/conda/lib/python3.7/site-packages (from pandas) (1.18.4)\n",
      "Requirement already satisfied: python-dateutil>=2.6.1 in /opt/conda/lib/python3.7/site-packages (from pandas) (2.8.1)\n",
      "Requirement already satisfied: pytz>=2017.2 in /opt/conda/lib/python3.7/site-packages (from pandas) (2020.1)\n",
      "Requirement already satisfied: six>=1.5 in /opt/conda/lib/python3.7/site-packages (from python-dateutil>=2.6.1->pandas) (1.14.0)\n",
      "\u001b[33mWARNING: You are using pip version 21.3.1; however, version 24.0 is available.\n",
      "You should consider upgrading via the '/opt/conda/bin/python3 -m pip install --upgrade pip' command.\u001b[0m\n",
      "Requirement already satisfied: numpy in /opt/conda/lib/python3.7/site-packages (1.18.4)\n",
      "\u001b[33mWARNING: You are using pip version 21.3.1; however, version 24.0 is available.\n",
      "You should consider upgrading via the '/opt/conda/bin/python3 -m pip install --upgrade pip' command.\u001b[0m\n",
      "Requirement already satisfied: matplotlib in /opt/conda/lib/python3.7/site-packages (3.2.1)\n",
      "Requirement already satisfied: kiwisolver>=1.0.1 in /opt/conda/lib/python3.7/site-packages (from matplotlib) (1.2.0)\n",
      "Requirement already satisfied: python-dateutil>=2.1 in /opt/conda/lib/python3.7/site-packages (from matplotlib) (2.8.1)\n",
      "Requirement already satisfied: pyparsing!=2.0.4,!=2.1.2,!=2.1.6,>=2.0.1 in /opt/conda/lib/python3.7/site-packages (from matplotlib) (2.4.7)\n",
      "Requirement already satisfied: numpy>=1.11 in /opt/conda/lib/python3.7/site-packages (from matplotlib) (1.18.4)\n",
      "Requirement already satisfied: cycler>=0.10 in /opt/conda/lib/python3.7/site-packages (from matplotlib) (0.10.0)\n",
      "Requirement already satisfied: six in /opt/conda/lib/python3.7/site-packages (from cycler>=0.10->matplotlib) (1.14.0)\n",
      "\u001b[33mWARNING: You are using pip version 21.3.1; however, version 24.0 is available.\n",
      "You should consider upgrading via the '/opt/conda/bin/python3 -m pip install --upgrade pip' command.\u001b[0m\n",
      "Requirement already satisfied: seaborn in /opt/conda/lib/python3.7/site-packages (0.10.1)\n",
      "Requirement already satisfied: pandas>=0.22.0 in /opt/conda/lib/python3.7/site-packages (from seaborn) (1.0.3)\n",
      "Requirement already satisfied: numpy>=1.13.3 in /opt/conda/lib/python3.7/site-packages (from seaborn) (1.18.4)\n",
      "Requirement already satisfied: scipy>=1.0.1 in /opt/conda/lib/python3.7/site-packages (from seaborn) (1.4.1)\n",
      "Requirement already satisfied: matplotlib>=2.1.2 in /opt/conda/lib/python3.7/site-packages (from seaborn) (3.2.1)\n",
      "Requirement already satisfied: cycler>=0.10 in /opt/conda/lib/python3.7/site-packages (from matplotlib>=2.1.2->seaborn) (0.10.0)\n",
      "Requirement already satisfied: python-dateutil>=2.1 in /opt/conda/lib/python3.7/site-packages (from matplotlib>=2.1.2->seaborn) (2.8.1)\n",
      "Requirement already satisfied: pyparsing!=2.0.4,!=2.1.2,!=2.1.6,>=2.0.1 in /opt/conda/lib/python3.7/site-packages (from matplotlib>=2.1.2->seaborn) (2.4.7)\n",
      "Requirement already satisfied: kiwisolver>=1.0.1 in /opt/conda/lib/python3.7/site-packages (from matplotlib>=2.1.2->seaborn) (1.2.0)\n",
      "Requirement already satisfied: pytz>=2017.2 in /opt/conda/lib/python3.7/site-packages (from pandas>=0.22.0->seaborn) (2020.1)\n",
      "Requirement already satisfied: six in /opt/conda/lib/python3.7/site-packages (from cycler>=0.10->matplotlib>=2.1.2->seaborn) (1.14.0)\n",
      "\u001b[33mWARNING: You are using pip version 21.3.1; however, version 24.0 is available.\n",
      "You should consider upgrading via the '/opt/conda/bin/python3 -m pip install --upgrade pip' command.\u001b[0m\n"
     ]
    }
   ],
   "source": [
    "!pip install pandas\n",
    "!pip install numpy\n",
    "!pip install matplotlib\n",
    "!pip install seaborn"
   ]
  },
  {
   "cell_type": "code",
   "execution_count": 2,
   "metadata": {},
   "outputs": [],
   "source": [
    "import pandas as pd\n",
    "import numpy as np\n",
    "import matplotlib.pyplot as plt\n",
    "import seaborn as sns\n",
    "import random"
   ]
  },
  {
   "cell_type": "code",
   "execution_count": 3,
   "metadata": {},
   "outputs": [
    {
     "name": "stdout",
     "output_type": "stream",
     "text": [
      "        Date Category  Likes  Favorites  Shares  Reposts  Comments\n",
      "0 2023-06-29   Family  94586      47850    9026      439       610\n",
      "1 2022-02-03  Fitness  68575      53281    6620     6797      1817\n",
      "2 2023-08-18   Health  65305      43854    7568     8515      1235\n",
      "3 2024-01-05   Travel  59445      33817    8785     7893      2067\n",
      "4 2022-09-24  Fashion  10542      36558    1237     1517      4616\n"
     ]
    }
   ],
   "source": [
    "# Define the number of entries\n",
    "num_entries = 100000\n",
    "\n",
    "# Define the categories\n",
    "categories = ['Food', 'Travel', 'Fashion', 'Fitness', 'Music', 'Culture', 'Family', 'Health']\n",
    "\n",
    "# Generate random dates between 2020-01-01 and 2024-12-31\n",
    "start_date = pd.to_datetime('2020-01-01')\n",
    "end_date = pd.to_datetime('2024-12-31')\n",
    "date_range = pd.date_range(start=start_date, end=end_date)\n",
    "random_dates = np.random.choice(date_range, size=num_entries)\n",
    "\n",
    "# Generate random categories\n",
    "random_categories = np.random.choice(categories, size=num_entries)\n",
    "\n",
    "# Generate random numerical data for 'Likes', 'Favorites', 'Shares', 'Reposts', 'Comments'\n",
    "random_likes = np.random.randint(0, 100000, size=num_entries)\n",
    "random_favorites = np.random.randint(0, 80000, size=num_entries)\n",
    "random_shares = np.random.randint(0, 10000, size=num_entries)\n",
    "random_reposts = np.random.randint(0, 10000, size=num_entries)\n",
    "random_comments = np.random.randint(0, 5000, size=num_entries)\n",
    "\n",
    "# Create a DataFrame\n",
    "df = pd.DataFrame({\n",
    "    'Date': random_dates,\n",
    "    'Category': random_categories,\n",
    "    'Likes': random_likes,\n",
    "    'Favorites': random_favorites,\n",
    "    'Shares': random_shares,\n",
    "    'Reposts': random_reposts,\n",
    "    'Comments': random_comments\n",
    "})\n",
    "\n",
    "# Remove rows with any null values\n",
    "df_cleaned = df.dropna(how='any', axis=0)\n",
    "\n",
    "# Save the cleaned DataFrame to a CSV file\n",
    "df_cleaned.to_csv('synthetic_dataset_cleaned.csv', index=False)\n",
    "\n",
    "# Display the first few rows of the cleaned DataFrame\n",
    "print(df_cleaned.head())"
   ]
  },
  {
   "cell_type": "code",
   "execution_count": 4,
   "metadata": {},
   "outputs": [
    {
     "data": {
      "text/html": [
       "<div>\n",
       "<style scoped>\n",
       "    .dataframe tbody tr th:only-of-type {\n",
       "        vertical-align: middle;\n",
       "    }\n",
       "\n",
       "    .dataframe tbody tr th {\n",
       "        vertical-align: top;\n",
       "    }\n",
       "\n",
       "    .dataframe thead th {\n",
       "        text-align: right;\n",
       "    }\n",
       "</style>\n",
       "<table border=\"1\" class=\"dataframe\">\n",
       "  <thead>\n",
       "    <tr style=\"text-align: right;\">\n",
       "      <th></th>\n",
       "      <th>Likes</th>\n",
       "      <th>Favorites</th>\n",
       "      <th>Shares</th>\n",
       "      <th>Reposts</th>\n",
       "      <th>Comments</th>\n",
       "    </tr>\n",
       "  </thead>\n",
       "  <tbody>\n",
       "    <tr>\n",
       "      <th>count</th>\n",
       "      <td>100000.000000</td>\n",
       "      <td>100000.00000</td>\n",
       "      <td>100000.000000</td>\n",
       "      <td>100000.000000</td>\n",
       "      <td>100000.000000</td>\n",
       "    </tr>\n",
       "    <tr>\n",
       "      <th>mean</th>\n",
       "      <td>49944.283740</td>\n",
       "      <td>40107.68388</td>\n",
       "      <td>4988.385890</td>\n",
       "      <td>4997.851100</td>\n",
       "      <td>2494.939750</td>\n",
       "    </tr>\n",
       "    <tr>\n",
       "      <th>std</th>\n",
       "      <td>28822.521137</td>\n",
       "      <td>23068.80281</td>\n",
       "      <td>2882.501341</td>\n",
       "      <td>2886.276228</td>\n",
       "      <td>1439.081754</td>\n",
       "    </tr>\n",
       "    <tr>\n",
       "      <th>min</th>\n",
       "      <td>0.000000</td>\n",
       "      <td>3.00000</td>\n",
       "      <td>0.000000</td>\n",
       "      <td>0.000000</td>\n",
       "      <td>0.000000</td>\n",
       "    </tr>\n",
       "    <tr>\n",
       "      <th>25%</th>\n",
       "      <td>25016.750000</td>\n",
       "      <td>20051.00000</td>\n",
       "      <td>2499.000000</td>\n",
       "      <td>2503.000000</td>\n",
       "      <td>1250.000000</td>\n",
       "    </tr>\n",
       "    <tr>\n",
       "      <th>50%</th>\n",
       "      <td>49870.000000</td>\n",
       "      <td>40222.00000</td>\n",
       "      <td>4965.000000</td>\n",
       "      <td>4992.000000</td>\n",
       "      <td>2493.000000</td>\n",
       "    </tr>\n",
       "    <tr>\n",
       "      <th>75%</th>\n",
       "      <td>75018.500000</td>\n",
       "      <td>60107.25000</td>\n",
       "      <td>7481.000000</td>\n",
       "      <td>7487.250000</td>\n",
       "      <td>3737.000000</td>\n",
       "    </tr>\n",
       "    <tr>\n",
       "      <th>max</th>\n",
       "      <td>99999.000000</td>\n",
       "      <td>79997.00000</td>\n",
       "      <td>9999.000000</td>\n",
       "      <td>9999.000000</td>\n",
       "      <td>4999.000000</td>\n",
       "    </tr>\n",
       "  </tbody>\n",
       "</table>\n",
       "</div>"
      ],
      "text/plain": [
       "               Likes     Favorites         Shares        Reposts  \\\n",
       "count  100000.000000  100000.00000  100000.000000  100000.000000   \n",
       "mean    49944.283740   40107.68388    4988.385890    4997.851100   \n",
       "std     28822.521137   23068.80281    2882.501341    2886.276228   \n",
       "min         0.000000       3.00000       0.000000       0.000000   \n",
       "25%     25016.750000   20051.00000    2499.000000    2503.000000   \n",
       "50%     49870.000000   40222.00000    4965.000000    4992.000000   \n",
       "75%     75018.500000   60107.25000    7481.000000    7487.250000   \n",
       "max     99999.000000   79997.00000    9999.000000    9999.000000   \n",
       "\n",
       "            Comments  \n",
       "count  100000.000000  \n",
       "mean     2494.939750  \n",
       "std      1439.081754  \n",
       "min         0.000000  \n",
       "25%      1250.000000  \n",
       "50%      2493.000000  \n",
       "75%      3737.000000  \n",
       "max      4999.000000  "
      ]
     },
     "execution_count": 4,
     "metadata": {},
     "output_type": "execute_result"
    }
   ],
   "source": [
    "df.describe()"
   ]
  },
  {
   "cell_type": "code",
   "execution_count": 5,
   "metadata": {},
   "outputs": [
    {
     "data": {
      "text/plain": [
       "<bound method NDFrame.head of             Date Category  Likes  Favorites  Shares  Reposts  Comments\n",
       "0     2023-06-29   Family  94586      47850    9026      439       610\n",
       "1     2022-02-03  Fitness  68575      53281    6620     6797      1817\n",
       "2     2023-08-18   Health  65305      43854    7568     8515      1235\n",
       "3     2024-01-05   Travel  59445      33817    8785     7893      2067\n",
       "4     2022-09-24  Fashion  10542      36558    1237     1517      4616\n",
       "...          ...      ...    ...        ...     ...      ...       ...\n",
       "99995 2020-05-02    Music  56116      27203    7073     1788      3274\n",
       "99996 2021-02-02     Food   4558       7992    5133      994      4560\n",
       "99997 2021-04-24     Food  23124       7230     693     9534      1833\n",
       "99998 2021-03-17   Family  80742      49049    9512     3475       935\n",
       "99999 2024-08-23  Fitness  83630       4975    2447     1349       872\n",
       "\n",
       "[100000 rows x 7 columns]>"
      ]
     },
     "execution_count": 5,
     "metadata": {},
     "output_type": "execute_result"
    }
   ],
   "source": [
    "df.head"
   ]
  },
  {
   "cell_type": "code",
   "execution_count": 6,
   "metadata": {},
   "outputs": [
    {
     "data": {
      "text/plain": [
       "<bound method NDFrame.tail of             Date Category  Likes  Favorites  Shares  Reposts  Comments\n",
       "0     2023-06-29   Family  94586      47850    9026      439       610\n",
       "1     2022-02-03  Fitness  68575      53281    6620     6797      1817\n",
       "2     2023-08-18   Health  65305      43854    7568     8515      1235\n",
       "3     2024-01-05   Travel  59445      33817    8785     7893      2067\n",
       "4     2022-09-24  Fashion  10542      36558    1237     1517      4616\n",
       "...          ...      ...    ...        ...     ...      ...       ...\n",
       "99995 2020-05-02    Music  56116      27203    7073     1788      3274\n",
       "99996 2021-02-02     Food   4558       7992    5133      994      4560\n",
       "99997 2021-04-24     Food  23124       7230     693     9534      1833\n",
       "99998 2021-03-17   Family  80742      49049    9512     3475       935\n",
       "99999 2024-08-23  Fitness  83630       4975    2447     1349       872\n",
       "\n",
       "[100000 rows x 7 columns]>"
      ]
     },
     "execution_count": 6,
     "metadata": {},
     "output_type": "execute_result"
    }
   ],
   "source": [
    "df.tail"
   ]
  },
  {
   "cell_type": "code",
   "execution_count": 7,
   "metadata": {},
   "outputs": [
    {
     "data": {
      "text/plain": [
       "Date         datetime64[ns]\n",
       "Category             object\n",
       "Likes                 int64\n",
       "Favorites             int64\n",
       "Shares                int64\n",
       "Reposts               int64\n",
       "Comments              int64\n",
       "dtype: object"
      ]
     },
     "execution_count": 7,
     "metadata": {},
     "output_type": "execute_result"
    }
   ],
   "source": [
    "df.dtypes"
   ]
  },
  {
   "cell_type": "code",
   "execution_count": 8,
   "metadata": {},
   "outputs": [
    {
     "data": {
      "text/html": [
       "<div>\n",
       "<style scoped>\n",
       "    .dataframe tbody tr th:only-of-type {\n",
       "        vertical-align: middle;\n",
       "    }\n",
       "\n",
       "    .dataframe tbody tr th {\n",
       "        vertical-align: top;\n",
       "    }\n",
       "\n",
       "    .dataframe thead th {\n",
       "        text-align: right;\n",
       "    }\n",
       "</style>\n",
       "<table border=\"1\" class=\"dataframe\">\n",
       "  <thead>\n",
       "    <tr style=\"text-align: right;\">\n",
       "      <th></th>\n",
       "      <th>Likes</th>\n",
       "      <th>Favorites</th>\n",
       "      <th>Shares</th>\n",
       "      <th>Reposts</th>\n",
       "      <th>Comments</th>\n",
       "    </tr>\n",
       "  </thead>\n",
       "  <tbody>\n",
       "    <tr>\n",
       "      <th>Likes</th>\n",
       "      <td>1.000000</td>\n",
       "      <td>0.003384</td>\n",
       "      <td>-0.001122</td>\n",
       "      <td>-0.000546</td>\n",
       "      <td>-0.001616</td>\n",
       "    </tr>\n",
       "    <tr>\n",
       "      <th>Favorites</th>\n",
       "      <td>0.003384</td>\n",
       "      <td>1.000000</td>\n",
       "      <td>-0.006432</td>\n",
       "      <td>0.000955</td>\n",
       "      <td>-0.002006</td>\n",
       "    </tr>\n",
       "    <tr>\n",
       "      <th>Shares</th>\n",
       "      <td>-0.001122</td>\n",
       "      <td>-0.006432</td>\n",
       "      <td>1.000000</td>\n",
       "      <td>-0.004737</td>\n",
       "      <td>0.001915</td>\n",
       "    </tr>\n",
       "    <tr>\n",
       "      <th>Reposts</th>\n",
       "      <td>-0.000546</td>\n",
       "      <td>0.000955</td>\n",
       "      <td>-0.004737</td>\n",
       "      <td>1.000000</td>\n",
       "      <td>0.000406</td>\n",
       "    </tr>\n",
       "    <tr>\n",
       "      <th>Comments</th>\n",
       "      <td>-0.001616</td>\n",
       "      <td>-0.002006</td>\n",
       "      <td>0.001915</td>\n",
       "      <td>0.000406</td>\n",
       "      <td>1.000000</td>\n",
       "    </tr>\n",
       "  </tbody>\n",
       "</table>\n",
       "</div>"
      ],
      "text/plain": [
       "              Likes  Favorites    Shares   Reposts  Comments\n",
       "Likes      1.000000   0.003384 -0.001122 -0.000546 -0.001616\n",
       "Favorites  0.003384   1.000000 -0.006432  0.000955 -0.002006\n",
       "Shares    -0.001122  -0.006432  1.000000 -0.004737  0.001915\n",
       "Reposts   -0.000546   0.000955 -0.004737  1.000000  0.000406\n",
       "Comments  -0.001616  -0.002006  0.001915  0.000406  1.000000"
      ]
     },
     "execution_count": 8,
     "metadata": {},
     "output_type": "execute_result"
    }
   ],
   "source": [
    "df.corr()"
   ]
  },
  {
   "cell_type": "code",
   "execution_count": 9,
   "metadata": {},
   "outputs": [
    {
     "data": {
      "text/plain": [
       "Index(['Likes', 'Favorites', 'Shares', 'Reposts', 'Comments'], dtype='object')"
      ]
     },
     "execution_count": 9,
     "metadata": {},
     "output_type": "execute_result"
    }
   ],
   "source": [
    "numeric_features = df.select_dtypes(include=[np.int64])\n",
    "\n",
    "numeric_features.columns"
   ]
  },
  {
   "cell_type": "code",
   "execution_count": 10,
   "metadata": {},
   "outputs": [
    {
     "data": {
      "text/plain": [
       "Index(['Category'], dtype='object')"
      ]
     },
     "execution_count": 10,
     "metadata": {},
     "output_type": "execute_result"
    }
   ],
   "source": [
    "categorical_features = df.select_dtypes(include=[object])\n",
    "\n",
    "categorical_features.columns"
   ]
  },
  {
   "cell_type": "code",
   "execution_count": 11,
   "metadata": {},
   "outputs": [
    {
     "data": {
      "text/plain": [
       "<bound method DataFrame.skew of             Date Category  Likes  Favorites  Shares  Reposts  Comments\n",
       "0     2023-06-29   Family  94586      47850    9026      439       610\n",
       "1     2022-02-03  Fitness  68575      53281    6620     6797      1817\n",
       "2     2023-08-18   Health  65305      43854    7568     8515      1235\n",
       "3     2024-01-05   Travel  59445      33817    8785     7893      2067\n",
       "4     2022-09-24  Fashion  10542      36558    1237     1517      4616\n",
       "...          ...      ...    ...        ...     ...      ...       ...\n",
       "99995 2020-05-02    Music  56116      27203    7073     1788      3274\n",
       "99996 2021-02-02     Food   4558       7992    5133      994      4560\n",
       "99997 2021-04-24     Food  23124       7230     693     9534      1833\n",
       "99998 2021-03-17   Family  80742      49049    9512     3475       935\n",
       "99999 2024-08-23  Fitness  83630       4975    2447     1349       872\n",
       "\n",
       "[100000 rows x 7 columns]>"
      ]
     },
     "execution_count": 11,
     "metadata": {},
     "output_type": "execute_result"
    }
   ],
   "source": [
    "df.skew"
   ]
  },
  {
   "cell_type": "code",
   "execution_count": 12,
   "metadata": {},
   "outputs": [
    {
     "data": {
      "text/html": [
       "<div>\n",
       "<style scoped>\n",
       "    .dataframe tbody tr th:only-of-type {\n",
       "        vertical-align: middle;\n",
       "    }\n",
       "\n",
       "    .dataframe tbody tr th {\n",
       "        vertical-align: top;\n",
       "    }\n",
       "\n",
       "    .dataframe thead th {\n",
       "        text-align: right;\n",
       "    }\n",
       "</style>\n",
       "<table border=\"1\" class=\"dataframe\">\n",
       "  <thead>\n",
       "    <tr style=\"text-align: right;\">\n",
       "      <th></th>\n",
       "      <th>Category</th>\n",
       "    </tr>\n",
       "  </thead>\n",
       "  <tbody>\n",
       "    <tr>\n",
       "      <th>count</th>\n",
       "      <td>100000</td>\n",
       "    </tr>\n",
       "    <tr>\n",
       "      <th>unique</th>\n",
       "      <td>8</td>\n",
       "    </tr>\n",
       "    <tr>\n",
       "      <th>top</th>\n",
       "      <td>Music</td>\n",
       "    </tr>\n",
       "    <tr>\n",
       "      <th>freq</th>\n",
       "      <td>12629</td>\n",
       "    </tr>\n",
       "  </tbody>\n",
       "</table>\n",
       "</div>"
      ],
      "text/plain": [
       "       Category\n",
       "count    100000\n",
       "unique        8\n",
       "top       Music\n",
       "freq      12629"
      ]
     },
     "execution_count": 12,
     "metadata": {},
     "output_type": "execute_result"
    }
   ],
   "source": [
    "df.describe(include=['object'])"
   ]
  },
  {
   "cell_type": "code",
   "execution_count": 13,
   "metadata": {},
   "outputs": [
    {
     "data": {
      "text/html": [
       "<div>\n",
       "<style scoped>\n",
       "    .dataframe tbody tr th:only-of-type {\n",
       "        vertical-align: middle;\n",
       "    }\n",
       "\n",
       "    .dataframe tbody tr th {\n",
       "        vertical-align: top;\n",
       "    }\n",
       "\n",
       "    .dataframe thead th {\n",
       "        text-align: right;\n",
       "    }\n",
       "</style>\n",
       "<table border=\"1\" class=\"dataframe\">\n",
       "  <thead>\n",
       "    <tr style=\"text-align: right;\">\n",
       "      <th></th>\n",
       "      <th>Likes</th>\n",
       "      <th>Favorites</th>\n",
       "      <th>Shares</th>\n",
       "      <th>Reposts</th>\n",
       "      <th>Comments</th>\n",
       "    </tr>\n",
       "  </thead>\n",
       "  <tbody>\n",
       "    <tr>\n",
       "      <th>count</th>\n",
       "      <td>100000.000000</td>\n",
       "      <td>100000.00000</td>\n",
       "      <td>100000.000000</td>\n",
       "      <td>100000.000000</td>\n",
       "      <td>100000.000000</td>\n",
       "    </tr>\n",
       "    <tr>\n",
       "      <th>mean</th>\n",
       "      <td>49944.283740</td>\n",
       "      <td>40107.68388</td>\n",
       "      <td>4988.385890</td>\n",
       "      <td>4997.851100</td>\n",
       "      <td>2494.939750</td>\n",
       "    </tr>\n",
       "    <tr>\n",
       "      <th>std</th>\n",
       "      <td>28822.521137</td>\n",
       "      <td>23068.80281</td>\n",
       "      <td>2882.501341</td>\n",
       "      <td>2886.276228</td>\n",
       "      <td>1439.081754</td>\n",
       "    </tr>\n",
       "    <tr>\n",
       "      <th>min</th>\n",
       "      <td>0.000000</td>\n",
       "      <td>3.00000</td>\n",
       "      <td>0.000000</td>\n",
       "      <td>0.000000</td>\n",
       "      <td>0.000000</td>\n",
       "    </tr>\n",
       "    <tr>\n",
       "      <th>25%</th>\n",
       "      <td>25016.750000</td>\n",
       "      <td>20051.00000</td>\n",
       "      <td>2499.000000</td>\n",
       "      <td>2503.000000</td>\n",
       "      <td>1250.000000</td>\n",
       "    </tr>\n",
       "    <tr>\n",
       "      <th>50%</th>\n",
       "      <td>49870.000000</td>\n",
       "      <td>40222.00000</td>\n",
       "      <td>4965.000000</td>\n",
       "      <td>4992.000000</td>\n",
       "      <td>2493.000000</td>\n",
       "    </tr>\n",
       "    <tr>\n",
       "      <th>75%</th>\n",
       "      <td>75018.500000</td>\n",
       "      <td>60107.25000</td>\n",
       "      <td>7481.000000</td>\n",
       "      <td>7487.250000</td>\n",
       "      <td>3737.000000</td>\n",
       "    </tr>\n",
       "    <tr>\n",
       "      <th>max</th>\n",
       "      <td>99999.000000</td>\n",
       "      <td>79997.00000</td>\n",
       "      <td>9999.000000</td>\n",
       "      <td>9999.000000</td>\n",
       "      <td>4999.000000</td>\n",
       "    </tr>\n",
       "  </tbody>\n",
       "</table>\n",
       "</div>"
      ],
      "text/plain": [
       "               Likes     Favorites         Shares        Reposts  \\\n",
       "count  100000.000000  100000.00000  100000.000000  100000.000000   \n",
       "mean    49944.283740   40107.68388    4988.385890    4997.851100   \n",
       "std     28822.521137   23068.80281    2882.501341    2886.276228   \n",
       "min         0.000000       3.00000       0.000000       0.000000   \n",
       "25%     25016.750000   20051.00000    2499.000000    2503.000000   \n",
       "50%     49870.000000   40222.00000    4965.000000    4992.000000   \n",
       "75%     75018.500000   60107.25000    7481.000000    7487.250000   \n",
       "max     99999.000000   79997.00000    9999.000000    9999.000000   \n",
       "\n",
       "            Comments  \n",
       "count  100000.000000  \n",
       "mean     2494.939750  \n",
       "std      1439.081754  \n",
       "min         0.000000  \n",
       "25%      1250.000000  \n",
       "50%      2493.000000  \n",
       "75%      3737.000000  \n",
       "max      4999.000000  "
      ]
     },
     "execution_count": 13,
     "metadata": {},
     "output_type": "execute_result"
    }
   ],
   "source": [
    "df.describe(include=['int64'])"
   ]
  },
  {
   "cell_type": "code",
   "execution_count": 14,
   "metadata": {},
   "outputs": [
    {
     "data": {
      "text/plain": [
       "Music      12629\n",
       "Family     12592\n",
       "Fitness    12583\n",
       "Food       12553\n",
       "Health     12529\n",
       "Fashion    12484\n",
       "Travel     12377\n",
       "Culture    12253\n",
       "Name: Category, dtype: int64"
      ]
     },
     "execution_count": 14,
     "metadata": {},
     "output_type": "execute_result"
    }
   ],
   "source": [
    "df['Category'].value_counts()"
   ]
  },
  {
   "cell_type": "code",
   "execution_count": 15,
   "metadata": {},
   "outputs": [],
   "source": [
    "df_group = df[['Category','Likes','Favorites','Reposts']]"
   ]
  },
  {
   "cell_type": "code",
   "execution_count": 16,
   "metadata": {},
   "outputs": [
    {
     "data": {
      "text/html": [
       "<div>\n",
       "<style scoped>\n",
       "    .dataframe tbody tr th:only-of-type {\n",
       "        vertical-align: middle;\n",
       "    }\n",
       "\n",
       "    .dataframe tbody tr th {\n",
       "        vertical-align: top;\n",
       "    }\n",
       "\n",
       "    .dataframe thead th {\n",
       "        text-align: right;\n",
       "    }\n",
       "</style>\n",
       "<table border=\"1\" class=\"dataframe\">\n",
       "  <thead>\n",
       "    <tr style=\"text-align: right;\">\n",
       "      <th></th>\n",
       "      <th>Category</th>\n",
       "      <th>Likes</th>\n",
       "      <th>Favorites</th>\n",
       "      <th>Reposts</th>\n",
       "    </tr>\n",
       "  </thead>\n",
       "  <tbody>\n",
       "    <tr>\n",
       "      <th>0</th>\n",
       "      <td>Culture</td>\n",
       "      <td>49732.784869</td>\n",
       "      <td>40071.297641</td>\n",
       "      <td>4995.001469</td>\n",
       "    </tr>\n",
       "    <tr>\n",
       "      <th>1</th>\n",
       "      <td>Family</td>\n",
       "      <td>49818.815518</td>\n",
       "      <td>39964.765963</td>\n",
       "      <td>5002.265963</td>\n",
       "    </tr>\n",
       "    <tr>\n",
       "      <th>2</th>\n",
       "      <td>Fashion</td>\n",
       "      <td>50256.152916</td>\n",
       "      <td>39771.647869</td>\n",
       "      <td>4989.867911</td>\n",
       "    </tr>\n",
       "    <tr>\n",
       "      <th>3</th>\n",
       "      <td>Fitness</td>\n",
       "      <td>49920.319717</td>\n",
       "      <td>39937.420170</td>\n",
       "      <td>5010.179607</td>\n",
       "    </tr>\n",
       "    <tr>\n",
       "      <th>4</th>\n",
       "      <td>Food</td>\n",
       "      <td>49729.855732</td>\n",
       "      <td>40454.216044</td>\n",
       "      <td>5007.056082</td>\n",
       "    </tr>\n",
       "    <tr>\n",
       "      <th>5</th>\n",
       "      <td>Health</td>\n",
       "      <td>49869.384867</td>\n",
       "      <td>39889.063213</td>\n",
       "      <td>4987.120441</td>\n",
       "    </tr>\n",
       "    <tr>\n",
       "      <th>6</th>\n",
       "      <td>Music</td>\n",
       "      <td>50119.738855</td>\n",
       "      <td>40327.905139</td>\n",
       "      <td>5018.165413</td>\n",
       "    </tr>\n",
       "    <tr>\n",
       "      <th>7</th>\n",
       "      <td>Travel</td>\n",
       "      <td>50105.377394</td>\n",
       "      <td>40446.285368</td>\n",
       "      <td>4972.497778</td>\n",
       "    </tr>\n",
       "  </tbody>\n",
       "</table>\n",
       "</div>"
      ],
      "text/plain": [
       "  Category         Likes     Favorites      Reposts\n",
       "0  Culture  49732.784869  40071.297641  4995.001469\n",
       "1   Family  49818.815518  39964.765963  5002.265963\n",
       "2  Fashion  50256.152916  39771.647869  4989.867911\n",
       "3  Fitness  49920.319717  39937.420170  5010.179607\n",
       "4     Food  49729.855732  40454.216044  5007.056082\n",
       "5   Health  49869.384867  39889.063213  4987.120441\n",
       "6    Music  50119.738855  40327.905139  5018.165413\n",
       "7   Travel  50105.377394  40446.285368  4972.497778"
      ]
     },
     "execution_count": 16,
     "metadata": {},
     "output_type": "execute_result"
    }
   ],
   "source": [
    "df_group = df_group.groupby(['Category'],as_index=False).mean()\n",
    "df_group"
   ]
  },
  {
   "cell_type": "code",
   "execution_count": 17,
   "metadata": {},
   "outputs": [
    {
     "data": {
      "text/html": [
       "<div>\n",
       "<style scoped>\n",
       "    .dataframe tbody tr th:only-of-type {\n",
       "        vertical-align: middle;\n",
       "    }\n",
       "\n",
       "    .dataframe tbody tr th {\n",
       "        vertical-align: top;\n",
       "    }\n",
       "\n",
       "    .dataframe thead th {\n",
       "        text-align: right;\n",
       "    }\n",
       "</style>\n",
       "<table border=\"1\" class=\"dataframe\">\n",
       "  <thead>\n",
       "    <tr style=\"text-align: right;\">\n",
       "      <th></th>\n",
       "      <th>Category</th>\n",
       "      <th>Reposts</th>\n",
       "      <th>Likes</th>\n",
       "      <th>Favorites</th>\n",
       "    </tr>\n",
       "  </thead>\n",
       "  <tbody>\n",
       "    <tr>\n",
       "      <th>0</th>\n",
       "      <td>Culture</td>\n",
       "      <td>0</td>\n",
       "      <td>51040.00</td>\n",
       "      <td>58324.5</td>\n",
       "    </tr>\n",
       "    <tr>\n",
       "      <th>1</th>\n",
       "      <td>Culture</td>\n",
       "      <td>2</td>\n",
       "      <td>31115.00</td>\n",
       "      <td>52123.0</td>\n",
       "    </tr>\n",
       "    <tr>\n",
       "      <th>2</th>\n",
       "      <td>Culture</td>\n",
       "      <td>3</td>\n",
       "      <td>85713.00</td>\n",
       "      <td>50830.0</td>\n",
       "    </tr>\n",
       "    <tr>\n",
       "      <th>3</th>\n",
       "      <td>Culture</td>\n",
       "      <td>4</td>\n",
       "      <td>71849.00</td>\n",
       "      <td>57213.0</td>\n",
       "    </tr>\n",
       "    <tr>\n",
       "      <th>4</th>\n",
       "      <td>Culture</td>\n",
       "      <td>5</td>\n",
       "      <td>49972.50</td>\n",
       "      <td>24863.0</td>\n",
       "    </tr>\n",
       "    <tr>\n",
       "      <th>...</th>\n",
       "      <td>...</td>\n",
       "      <td>...</td>\n",
       "      <td>...</td>\n",
       "      <td>...</td>\n",
       "    </tr>\n",
       "    <tr>\n",
       "      <th>57046</th>\n",
       "      <td>Travel</td>\n",
       "      <td>9993</td>\n",
       "      <td>8753.00</td>\n",
       "      <td>648.0</td>\n",
       "    </tr>\n",
       "    <tr>\n",
       "      <th>57047</th>\n",
       "      <td>Travel</td>\n",
       "      <td>9995</td>\n",
       "      <td>54203.25</td>\n",
       "      <td>46316.5</td>\n",
       "    </tr>\n",
       "    <tr>\n",
       "      <th>57048</th>\n",
       "      <td>Travel</td>\n",
       "      <td>9996</td>\n",
       "      <td>88757.00</td>\n",
       "      <td>10530.0</td>\n",
       "    </tr>\n",
       "    <tr>\n",
       "      <th>57049</th>\n",
       "      <td>Travel</td>\n",
       "      <td>9997</td>\n",
       "      <td>33977.00</td>\n",
       "      <td>76887.0</td>\n",
       "    </tr>\n",
       "    <tr>\n",
       "      <th>57050</th>\n",
       "      <td>Travel</td>\n",
       "      <td>9999</td>\n",
       "      <td>74575.00</td>\n",
       "      <td>18235.0</td>\n",
       "    </tr>\n",
       "  </tbody>\n",
       "</table>\n",
       "<p>57051 rows × 4 columns</p>\n",
       "</div>"
      ],
      "text/plain": [
       "      Category  Reposts     Likes  Favorites\n",
       "0      Culture        0  51040.00    58324.5\n",
       "1      Culture        2  31115.00    52123.0\n",
       "2      Culture        3  85713.00    50830.0\n",
       "3      Culture        4  71849.00    57213.0\n",
       "4      Culture        5  49972.50    24863.0\n",
       "...        ...      ...       ...        ...\n",
       "57046   Travel     9993   8753.00      648.0\n",
       "57047   Travel     9995  54203.25    46316.5\n",
       "57048   Travel     9996  88757.00    10530.0\n",
       "57049   Travel     9997  33977.00    76887.0\n",
       "57050   Travel     9999  74575.00    18235.0\n",
       "\n",
       "[57051 rows x 4 columns]"
      ]
     },
     "execution_count": 17,
     "metadata": {},
     "output_type": "execute_result"
    }
   ],
   "source": [
    "df_gptest = df[['Category','Likes','Favorites','Reposts']]\n",
    "grouped_test1 = df_gptest.groupby(['Category','Reposts'],as_index=False).mean()\n",
    "grouped_test1"
   ]
  },
  {
   "cell_type": "code",
   "execution_count": 18,
   "metadata": {},
   "outputs": [
    {
     "data": {
      "image/png": "[encoded data removed]",
      "text/plain": [
       "<Figure size 432x288 with 1 Axes>"
      ]
     },
     "metadata": {
      "needs_background": "light"
     },
     "output_type": "display_data"
    }
   ],
   "source": [
    "df['Likes'].hist(bins=50, edgecolor='black', color='skyblue', alpha=0.7)\n",
    "plt.xlabel('Category')\n",
    "plt.ylabel('Likes')\n",
    "plt.title('Histogram of Likes')\n",
    "plt.grid(True)\n",
    "plt.show()"
   ]
  },
  {
   "cell_type": "code",
   "execution_count": 19,
   "metadata": {},
   "outputs": [
    {
     "name": "stdout",
     "output_type": "stream",
     "text": [
      "The overall mean of Likes is: 49944.28\n"
     ]
    }
   ],
   "source": [
    "overall_mean_likes = df['Likes'].mean()\n",
    "print(f'The overall mean of Likes is: {overall_mean_likes:.2f}')"
   ]
  },
  {
   "cell_type": "code",
   "execution_count": 20,
   "metadata": {},
   "outputs": [
    {
     "name": "stdout",
     "output_type": "stream",
     "text": [
      "\n",
      "Mean Likes per Category:\n",
      "Category\n",
      "Culture    49732.784869\n",
      "Family     49818.815518\n",
      "Fashion    50256.152916\n",
      "Fitness    49920.319717\n",
      "Food       49729.855732\n",
      "Health     49869.384867\n",
      "Music      50119.738855\n",
      "Travel     50105.377394\n",
      "Name: Likes, dtype: float64\n"
     ]
    }
   ],
   "source": [
    "category_mean_likes = df.groupby('Category')['Likes'].mean()\n",
    "print('\\nMean Likes per Category:')\n",
    "print(category_mean_likes)"
   ]
  },
  {
   "cell_type": "code",
   "execution_count": 21,
   "metadata": {},
   "outputs": [
    {
     "name": "stdout",
     "output_type": "stream",
     "text": [
      "The Pearson correlation between Likes and Favorites is 0.003 with a p-value of 2.846e-01.\n",
      "Correlation between Likes and Favorites is not statistically significant.\n",
      "Coeff ~0.003 shows that the relationship is Very Weak Positive.\n",
      "\n",
      "The Pearson correlation between Likes and Shares is -0.001 with a p-value of 7.227e-01.\n",
      "Correlation between Likes and Shares is not statistically significant.\n",
      "Coeff ~-0.001 shows that the relationship is Very Weak Negative.\n",
      "\n",
      "The Pearson correlation between Likes and Reposts is -0.001 with a p-value of 8.630e-01.\n",
      "Correlation between Likes and Reposts is not statistically significant.\n",
      "Coeff ~-0.001 shows that the relationship is Very Weak Negative.\n",
      "\n",
      "The Pearson correlation between Likes and Comments is -0.002 with a p-value of 6.094e-01.\n",
      "Correlation between Likes and Comments is not statistically significant.\n",
      "Coeff ~-0.002 shows that the relationship is Very Weak Negative.\n",
      "\n",
      "The Pearson correlation between Favorites and Shares is -0.006 with a p-value of 4.197e-02.\n",
      "Correlation between Favorites and Shares is statistically significant.\n",
      "Coeff ~-0.006 shows that the relationship is Very Weak Negative.\n",
      "\n",
      "The Pearson correlation between Favorites and Reposts is 0.001 with a p-value of 7.627e-01.\n",
      "Correlation between Favorites and Reposts is not statistically significant.\n",
      "Coeff ~0.001 shows that the relationship is Very Weak Positive.\n",
      "\n",
      "The Pearson correlation between Favorites and Comments is -0.002 with a p-value of 5.258e-01.\n",
      "Correlation between Favorites and Comments is not statistically significant.\n",
      "Coeff ~-0.002 shows that the relationship is Very Weak Negative.\n",
      "\n",
      "The Pearson correlation between Shares and Reposts is -0.005 with a p-value of 1.341e-01.\n",
      "Correlation between Shares and Reposts is not statistically significant.\n",
      "Coeff ~-0.005 shows that the relationship is Very Weak Negative.\n",
      "\n",
      "The Pearson correlation between Shares and Comments is 0.002 with a p-value of 5.448e-01.\n",
      "Correlation between Shares and Comments is not statistically significant.\n",
      "Coeff ~0.002 shows that the relationship is Very Weak Positive.\n",
      "\n",
      "The Pearson correlation between Reposts and Comments is 0.000 with a p-value of 8.977e-01.\n",
      "Correlation between Reposts and Comments is not statistically significant.\n",
      "Coeff ~0.000 shows that the relationship is Very Weak Positive.\n",
      "\n"
     ]
    }
   ],
   "source": [
    "from scipy.stats.stats import pearsonr\n",
    "\n",
    "# List of numerical columns to analyze\n",
    "numerical_columns = ['Likes', 'Favorites', 'Shares', 'Reposts', 'Comments']\n",
    "\n",
    "# Define a function to interpret correlation strength\n",
    "def interpret_correlation(corr_value):\n",
    "    if corr_value >= 0.8:\n",
    "        return 'Very Strong Positive'\n",
    "    elif corr_value >= 0.6:\n",
    "        return 'Strong Positive'\n",
    "    elif corr_value >= 0.4:\n",
    "        return 'Moderate Positive'\n",
    "    elif corr_value >= 0.2:\n",
    "        return 'Weak Positive'\n",
    "    elif corr_value >= 0:\n",
    "        return 'Very Weak Positive'\n",
    "    elif corr_value >= -0.2:\n",
    "        return 'Very Weak Negative'\n",
    "    elif corr_value >= -0.4:\n",
    "        return 'Weak Negative'\n",
    "    elif corr_value >= -0.6:\n",
    "        return 'Moderate Negative'\n",
    "    elif corr_value >= -0.8:\n",
    "        return 'Strong Negative'\n",
    "    else:\n",
    "        return 'Very Strong Negative'\n",
    "\n",
    "# Iterate through pairs of numerical columns and compute Pearson correlation\n",
    "for i, col1 in enumerate(numerical_columns):\n",
    "    for col2 in numerical_columns[i+1:]:\n",
    "        # Compute Pearson correlation coefficient and p-value\n",
    "        corr_coef, p_value = pearsonr(df_cleaned[col1], df_cleaned[col2])\n",
    "        # Interpret the correlation strength\n",
    "        interpretation = interpret_correlation(corr_coef)\n",
    "        # Determine statistical significance\n",
    "        significance = 'statistically significant' if p_value < 0.05 else 'not statistically significant'\n",
    "        # Print the results\n",
    "        print(f'The Pearson correlation between {col1} and {col2} is {corr_coef:.3f} with a p-value of {p_value:.3e}.')\n",
    "        print(f'Correlation between {col1} and {col2} is {significance}.')\n",
    "        print(f'Coeff ~{corr_coef:.3f} shows that the relationship is {interpretation}.\\n')"
   ]
  },
  {
   "cell_type": "code",
   "execution_count": 22,
   "metadata": {},
   "outputs": [
    {
     "data": {
      "image/png": "[encoded data removed]",
      "text/plain": [
       "<Figure size 1152x1008 with 2 Axes>"
      ]
     },
     "metadata": {
      "needs_background": "light"
     },
     "output_type": "display_data"
    }
   ],
   "source": [
    "# Compute pairwise Pearson correlation coefficients\n",
    "correlation_matrix = df_cleaned.corr()\n",
    "\n",
    "# Set up the matplotlib figure\n",
    "plt.figure(figsize=(16, 14))\n",
    "\n",
    "# Generate a heatmap of the correlation matrix\n",
    "sns.heatmap(correlation_matrix, annot=True, cmap='coolwarm', fmt='.2f', linewidths=0.5)\n",
    "\n",
    "# Display the plot\n",
    "plt.show()"
   ]
  },
  {
   "cell_type": "code",
   "execution_count": null,
   "metadata": {},
   "outputs": [],
   "source": []
  }
 ],
 "metadata": {
  "kernelspec": {
   "display_name": "Python 3",
   "language": "python",
   "name": "python3"
  },
  "language_info": {
   "codemirror_mode": {
    "name": "ipython",
    "version": 3
   },
   "file_extension": ".py",
   "mimetype": "text/x-python",
   "name": "python",
   "nbconvert_exporter": "python",
   "pygments_lexer": "ipython3",
   "version": "3.7.6"
  }
 },
 "nbformat": 4,
 "nbformat_minor": 4
}
